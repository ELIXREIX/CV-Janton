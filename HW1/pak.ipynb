{
 "cells": [
  {
   "cell_type": "code",
   "execution_count": 3,
   "metadata": {},
   "outputs": [
    {
     "name": "stdout",
     "output_type": "stream",
     "text": [
      "Requirement already satisfied: torchvision in c:\\users\\gofaf\\miniconda3\\lib\\site-packages (0.19.1)\n",
      "Requirement already satisfied: numpy in c:\\users\\gofaf\\miniconda3\\lib\\site-packages (from torchvision) (1.26.4)\n",
      "Requirement already satisfied: torch==2.4.1 in c:\\users\\gofaf\\miniconda3\\lib\\site-packages (from torchvision) (2.4.1)\n",
      "Requirement already satisfied: pillow!=8.3.*,>=5.3.0 in c:\\users\\gofaf\\miniconda3\\lib\\site-packages (from torchvision) (10.4.0)\n",
      "Requirement already satisfied: filelock in c:\\users\\gofaf\\miniconda3\\lib\\site-packages (from torch==2.4.1->torchvision) (3.16.1)\n",
      "Requirement already satisfied: typing-extensions>=4.8.0 in c:\\users\\gofaf\\miniconda3\\lib\\site-packages (from torch==2.4.1->torchvision) (4.11.0)\n",
      "Requirement already satisfied: sympy in c:\\users\\gofaf\\miniconda3\\lib\\site-packages (from torch==2.4.1->torchvision) (1.13.3)\n",
      "Requirement already satisfied: networkx in c:\\users\\gofaf\\miniconda3\\lib\\site-packages (from torch==2.4.1->torchvision) (3.3)\n",
      "Requirement already satisfied: jinja2 in c:\\users\\gofaf\\miniconda3\\lib\\site-packages (from torch==2.4.1->torchvision) (3.1.4)\n",
      "Requirement already satisfied: fsspec in c:\\users\\gofaf\\miniconda3\\lib\\site-packages (from torch==2.4.1->torchvision) (2024.9.0)\n",
      "Requirement already satisfied: setuptools in c:\\users\\gofaf\\miniconda3\\lib\\site-packages (from torch==2.4.1->torchvision) (68.2.2)\n",
      "Requirement already satisfied: MarkupSafe>=2.0 in c:\\users\\gofaf\\miniconda3\\lib\\site-packages (from jinja2->torch==2.4.1->torchvision) (2.1.3)\n",
      "Requirement already satisfied: mpmath<1.4,>=1.1.0 in c:\\users\\gofaf\\miniconda3\\lib\\site-packages (from sympy->torch==2.4.1->torchvision) (1.3.0)\n",
      "Note: you may need to restart the kernel to use updated packages.\n"
     ]
    }
   ],
   "source": [
    "pip install torchvision"
   ]
  },
  {
   "cell_type": "code",
   "execution_count": 5,
   "metadata": {},
   "outputs": [],
   "source": [
    "import torch\n",
    "from torchvision import transforms\n",
    "from PIL import Image\n",
    "\n",
    "def merge_images_pytorch(image1_path, image2_path, output_path):\n",
    "    # Open and preprocess images\n",
    "    transform = transforms.Compose([\n",
    "        transforms.ToTensor(),\n",
    "    ])\n",
    "    \n",
    "    img1 = transform(Image.open(image1_path).convert('RGBA'))\n",
    "    img2 = transform(Image.open(image2_path).convert('RGBA'))\n",
    "    \n",
    "    # Ensure both images are of the same size\n",
    "    if img1.shape != img2.shape:\n",
    "        raise ValueError(\"Images must have the same dimensions\")\n",
    "    \n",
    "    # Extract high 4 bits from img1 and low 4 bits from img2\n",
    "    merged = (img1 * 255).to(torch.uint8) & 0xF0 | ((img2 * 255).to(torch.uint8) >> 4)\n",
    "    \n",
    "    # Convert back to PIL Image and save\n",
    "    merged_img = transforms.ToPILImage()(merged.to(torch.float32) / 255.0)\n",
    "    merged_img.save(output_path)\n",
    "\n",
    "def decode_image_pytorch(merged_image_path, output_image1_path, output_image2_path):\n",
    "    # Open and preprocess merged image\n",
    "    transform = transforms.Compose([\n",
    "        transforms.ToTensor(),\n",
    "    ])\n",
    "    \n",
    "    merged_img = transform(Image.open(merged_image_path).convert('RGBA'))\n",
    "    \n",
    "    # Extract high 4 bits for img1 and low 4 bits for img2\n",
    "    merged = (merged_img * 255).to(torch.uint8)\n",
    "    img1 = merged & 0xF0\n",
    "    img2 = (merged & 0x0F) << 4\n",
    "    \n",
    "    # Convert back to PIL Images and save\n",
    "    img1_pil = transforms.ToPILImage()(img1.to(torch.float32) / 255.0)\n",
    "    img2_pil = transforms.ToPILImage()(img2.to(torch.float32) / 255.0)\n",
    "    \n",
    "    img1_pil.save(output_image1_path)\n",
    "    img2_pil.save(output_image2_path)\n",
    "\n",
    "# Example usage\n",
    "merge_images_pytorch(r'C:\\Users\\gofaf\\Desktop\\Janton\\HW1\\IMG_Boss.jpeg', r'C:\\Users\\gofaf\\Desktop\\Janton\\HW1\\IMG_Papontee.jpg', r'C:\\Users\\gofaf\\Desktop\\Janton\\HW1\\Merged_Image.png')\n",
    "decode_image_pytorch(r'C:\\Users\\gofaf\\Desktop\\Janton\\HW1\\Merged_Image.png', r'C:\\Users\\gofaf\\Desktop\\Janton\\HW1\\decoded_image1.png', r'C:\\Users\\gofaf\\Desktop\\Janton\\HW1\\decoded_image2.png')"
   ]
  }
 ],
 "metadata": {
  "kernelspec": {
   "display_name": "base",
   "language": "python",
   "name": "python3"
  },
  "language_info": {
   "codemirror_mode": {
    "name": "ipython",
    "version": 3
   },
   "file_extension": ".py",
   "mimetype": "text/x-python",
   "name": "python",
   "nbconvert_exporter": "python",
   "pygments_lexer": "ipython3",
   "version": "3.12.2"
  }
 },
 "nbformat": 4,
 "nbformat_minor": 2
}
