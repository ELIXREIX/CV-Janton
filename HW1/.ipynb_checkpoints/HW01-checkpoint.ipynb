{
 "cells": [
  {
   "cell_type": "code",
   "execution_count": 1,
   "metadata": {},
   "outputs": [
    {
     "name": "stdout",
     "output_type": "stream",
     "text": [
      "Requirement already satisfied: pillow in c:\\users\\gofaf\\appdata\\local\\packages\\pythonsoftwarefoundation.python.3.11_qbz5n2kfra8p0\\localcache\\local-packages\\python311\\site-packages (10.3.0)\n",
      "Note: you may need to restart the kernel to use updated packages.\n"
     ]
    }
   ],
   "source": [
    "pip install pillow"
   ]
  },
  {
   "cell_type": "code",
   "execution_count": 2,
   "metadata": {},
   "outputs": [],
   "source": [
    "from PIL import Image"
   ]
  },
  {
   "cell_type": "code",
   "execution_count": 3,
   "metadata": {},
   "outputs": [
    {
     "ename": "NameError",
     "evalue": "name 'Image' is not defined",
     "output_type": "error",
     "traceback": [
      "\u001b[1;31m---------------------------------------------------------------------------\u001b[0m",
      "\u001b[1;31mNameError\u001b[0m                                 Traceback (most recent call last)",
      "Cell \u001b[1;32mIn[3], line 42\u001b[0m\n\u001b[0;32m     39\u001b[0m     merged_img\u001b[38;5;241m.\u001b[39msave(output_path)\n\u001b[0;32m     41\u001b[0m \u001b[38;5;66;03m# Example usage\u001b[39;00m\n\u001b[1;32m---> 42\u001b[0m merge_images(\u001b[38;5;124mr\u001b[39m\u001b[38;5;124m'\u001b[39m\u001b[38;5;124mC:\u001b[39m\u001b[38;5;124m\\\u001b[39m\u001b[38;5;124mUsers\u001b[39m\u001b[38;5;124m\\\u001b[39m\u001b[38;5;124mgofaf\u001b[39m\u001b[38;5;124m\\\u001b[39m\u001b[38;5;124mDesktop\u001b[39m\u001b[38;5;124m\\\u001b[39m\u001b[38;5;124mJanton\u001b[39m\u001b[38;5;124m\\\u001b[39m\u001b[38;5;124mHW1\u001b[39m\u001b[38;5;124m\\\u001b[39m\u001b[38;5;124mIMG_Boss.jpeg\u001b[39m\u001b[38;5;124m'\u001b[39m, \u001b[38;5;124mr\u001b[39m\u001b[38;5;124m'\u001b[39m\u001b[38;5;124mC:\u001b[39m\u001b[38;5;124m\\\u001b[39m\u001b[38;5;124mUsers\u001b[39m\u001b[38;5;124m\\\u001b[39m\u001b[38;5;124mgofaf\u001b[39m\u001b[38;5;124m\\\u001b[39m\u001b[38;5;124mDesktop\u001b[39m\u001b[38;5;124m\\\u001b[39m\u001b[38;5;124mJanton\u001b[39m\u001b[38;5;124m\\\u001b[39m\u001b[38;5;124mHW1\u001b[39m\u001b[38;5;124m\\\u001b[39m\u001b[38;5;124mIMG_Papontee.jpg\u001b[39m\u001b[38;5;124m'\u001b[39m, \u001b[38;5;124mr\u001b[39m\u001b[38;5;124m'\u001b[39m\u001b[38;5;124mC:\u001b[39m\u001b[38;5;124m\\\u001b[39m\u001b[38;5;124mUsers\u001b[39m\u001b[38;5;124m\\\u001b[39m\u001b[38;5;124mgofaf\u001b[39m\u001b[38;5;124m\\\u001b[39m\u001b[38;5;124mDesktop\u001b[39m\u001b[38;5;124m\\\u001b[39m\u001b[38;5;124mJanton\u001b[39m\u001b[38;5;124m\\\u001b[39m\u001b[38;5;124mHW1\u001b[39m\u001b[38;5;124m\\\u001b[39m\u001b[38;5;124mMerged_Image.png\u001b[39m\u001b[38;5;124m'\u001b[39m)\n",
      "Cell \u001b[1;32mIn[3], line 3\u001b[0m, in \u001b[0;36mmerge_images\u001b[1;34m(image1_path, image2_path, output_path)\u001b[0m\n\u001b[0;32m      1\u001b[0m \u001b[38;5;28;01mdef\u001b[39;00m \u001b[38;5;21mmerge_images\u001b[39m(image1_path, image2_path, output_path):\n\u001b[0;32m      2\u001b[0m     \u001b[38;5;66;03m# Open both images\u001b[39;00m\n\u001b[1;32m----> 3\u001b[0m     img1 \u001b[38;5;241m=\u001b[39m Image\u001b[38;5;241m.\u001b[39mopen(image1_path)\u001b[38;5;241m.\u001b[39mconvert(\u001b[38;5;124m'\u001b[39m\u001b[38;5;124mRGBA\u001b[39m\u001b[38;5;124m'\u001b[39m)\n\u001b[0;32m      4\u001b[0m     img2 \u001b[38;5;241m=\u001b[39m Image\u001b[38;5;241m.\u001b[39mopen(image2_path)\u001b[38;5;241m.\u001b[39mconvert(\u001b[38;5;124m'\u001b[39m\u001b[38;5;124mRGBA\u001b[39m\u001b[38;5;124m'\u001b[39m)\n\u001b[0;32m      6\u001b[0m     \u001b[38;5;66;03m# Display the images\u001b[39;00m\n",
      "\u001b[1;31mNameError\u001b[0m: name 'Image' is not defined"
     ]
    }
   ],
   "source": [
    "def merge_images(image1_path, image2_path, output_path):\n",
    "    # Open both images\n",
    "    img1 = Image.open(image1_path).convert('RGBA')\n",
    "    img2 = Image.open(image2_path).convert('RGBA')\n",
    "    \n",
    "    # Display the images\n",
    "    img1.show()\n",
    "    img2.show()\n",
    "    \n",
    "    # Ensure both images are of the same size\n",
    "    if img1.size != img2.size:\n",
    "        raise ValueError(\"Images must have the same dimensions\")\n",
    "\n",
    "    # Create a new image to store the result\n",
    "    merged_img = Image.new('RGBA', img1.size)\n",
    "    \n",
    "    # Get pixel data\n",
    "    pixels1 = img1.load()\n",
    "    pixels2 = img2.load()\n",
    "    merged_pixels = merged_img.load()\n",
    "    \n",
    "    # Iterate through all the pixels\n",
    "    for y in range(img1.height):\n",
    "        for x in range(img1.width):\n",
    "            # Get RGBA values from both images\n",
    "            r1, g1, b1, a1 = pixels1[x, y]\n",
    "            r2, g2, b2, a2 = pixels2[x, y]\n",
    "\n",
    "            # Extract the high 4 bits from the first image and low 4 bits from the second image\n",
    "            r_merged = ((r1 & 0xF0) | (r2 >> 4))\n",
    "            g_merged = ((g1 & 0xF0) | (g2 >> 4))\n",
    "            b_merged = ((b1 & 0xF0) | (b2 >> 4))\n",
    "            a_merged = ((a1 & 0xF0) | (a2 >> 4))\n",
    "            \n",
    "            # Set the new pixel\n",
    "            merged_pixels[x, y] = (r_merged, g_merged, b_merged, a_merged)\n",
    "    \n",
    "    # Save the merged image\n",
    "    merged_img.save(output_path)\n",
    "\n",
    "# Example usage\n",
    "merge_images(r'C:\\Users\\gofaf\\Desktop\\Janton\\HW1\\IMG_Boss.jpeg', r'C:\\Users\\gofaf\\Desktop\\Janton\\HW1\\IMG_Papontee.jpg', r'C:\\Users\\gofaf\\Desktop\\Janton\\HW1\\Merged_Image.png')\n"
   ]
  },
  {
   "cell_type": "code",
   "execution_count": 6,
   "metadata": {},
   "outputs": [],
   "source": [
    "def decode_image(merged_image_path, output_image1_path, output_image2_path):\n",
    "    # Open the merged image\n",
    "    merged_img = Image.open(merged_image_path).convert('RGBA')\n",
    "    \n",
    "    # Create new images to store the decoded results\n",
    "    img1 = Image.new('RGBA', merged_img.size)\n",
    "    img2 = Image.new('RGBA', merged_img.size)\n",
    "    \n",
    "    # Get pixel data\n",
    "    merged_pixels = merged_img.load()\n",
    "    pixels1 = img1.load()\n",
    "    pixels2 = img2.load()\n",
    "    \n",
    "    # Iterate through all the pixels\n",
    "    for y in range(merged_img.height):\n",
    "        for x in range(merged_img.width):\n",
    "            # Get the merged pixel values\n",
    "            r_merged, g_merged, b_merged, a_merged = merged_pixels[x, y]\n",
    "\n",
    "            # Decode the high 4 bits for the first image\n",
    "            r1 = (r_merged & 0xF0)\n",
    "            g1 = (g_merged & 0xF0)\n",
    "            b1 = (b_merged & 0xF0)\n",
    "            a1 = (a_merged & 0xF0)\n",
    "\n",
    "            # Decode the low 4 bits for the second image\n",
    "            r2 = (r_merged & 0x0F) << 4\n",
    "            g2 = (g_merged & 0x0F) << 4\n",
    "            b2 = (b_merged & 0x0F) << 4\n",
    "            a2 = (a_merged & 0x0F) << 4\n",
    "\n",
    "            # Set the new pixels for both images\n",
    "            pixels1[x, y] = (r1, g1, b1, a1)\n",
    "            pixels2[x, y] = (r2, g2, b2, a2)\n",
    "    \n",
    "    # Save the decoded images\n",
    "    img1.save(output_image1_path)\n",
    "    img2.save(output_image2_path)\n",
    "\n",
    "# Example usage\n",
    "decode_image(r'C:\\Users\\gofaf\\Desktop\\Janton\\HW1\\Merged_Image.png', r'C:\\Users\\gofaf\\Desktop\\Janton\\HW1\\decoded_image1.png', r'C:\\Users\\gofaf\\Desktop\\Janton\\HW1\\decoded_image2.png')"
   ]
  }
 ],
 "metadata": {
  "kernelspec": {
   "display_name": "Python 3",
   "language": "python",
   "name": "python3"
  },
  "language_info": {
   "codemirror_mode": {
    "name": "ipython",
    "version": 3
   },
   "file_extension": ".py",
   "mimetype": "text/x-python",
   "name": "python",
   "nbconvert_exporter": "python",
   "pygments_lexer": "ipython3",
   "version": "3.12.2"
  }
 },
 "nbformat": 4,
 "nbformat_minor": 2
}
