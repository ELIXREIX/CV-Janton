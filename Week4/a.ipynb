import cv2

# Load the image in grayscale
image = cv2.imread('', cv2.IMREAD_GRAYSCALE)

# Apply Otsu's thresholding
_, thresholded_image = cv2.threshold(image, 0, 255, cv2.THRESH_BINARY + cv2.THRESH_OTSU)

# Save or display the result
cv2.imwrite('otsu_thresholded.jpg', thresholded_image)
# cv2.imshow('Otsu Thresholding', thresholded_image)
# cv2.waitKey(0)
# cv2.destroyAllWindows()
